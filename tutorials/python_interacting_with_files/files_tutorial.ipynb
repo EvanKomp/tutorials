{
 "cells": [
  {
   "cell_type": "markdown",
   "id": "aad3ca4c-c0c9-4fca-ba27-b945658b743f",
   "metadata": {},
   "source": [
    "# Interacting, reading, writing files in python\n",
    "## Contents\n",
    "- basic access\n",
    "- csvs\n",
    "- regex"
   ]
  },
  {
   "cell_type": "code",
   "execution_count": 58,
   "id": "8165a26a-00e6-401d-a88f-a65079dcf324",
   "metadata": {},
   "outputs": [],
   "source": [
    "import numpy\n",
    "import pandas\n",
    "import os"
   ]
  },
  {
   "cell_type": "markdown",
   "id": "0e1dd9d5-a8b7-4b6f-b3ab-3d0e8b864d3d",
   "metadata": {},
   "source": [
    "***\n",
    "***"
   ]
  },
  {
   "cell_type": "markdown",
   "id": "b03cd5b3-9cce-4861-ac3b-5c172b4eb3ce",
   "metadata": {},
   "source": [
    "## Basic Access"
   ]
  },
  {
   "cell_type": "markdown",
   "id": "82cdc8e9-636c-4cae-8385-ea064c7b1834",
   "metadata": {},
   "source": [
    "Files can be opened with the builtin function `open`. We must specify what we want to do with that file, eg. read, write."
   ]
  },
  {
   "cell_type": "code",
   "execution_count": 1,
   "id": "1aa3a380-5df9-4dd5-b39c-41edb866c199",
   "metadata": {
    "collapsed": true,
    "jupyter": {
     "outputs_hidden": true
    },
    "tags": []
   },
   "outputs": [
    {
     "name": "stdout",
     "output_type": "stream",
     "text": [
      "Help on built-in function open in module io:\n",
      "\n",
      "open(file, mode='r', buffering=-1, encoding=None, errors=None, newline=None, closefd=True, opener=None)\n",
      "    Open file and return a stream.  Raise OSError upon failure.\n",
      "    \n",
      "    file is either a text or byte string giving the name (and the path\n",
      "    if the file isn't in the current working directory) of the file to\n",
      "    be opened or an integer file descriptor of the file to be\n",
      "    wrapped. (If a file descriptor is given, it is closed when the\n",
      "    returned I/O object is closed, unless closefd is set to False.)\n",
      "    \n",
      "    mode is an optional string that specifies the mode in which the file\n",
      "    is opened. It defaults to 'r' which means open for reading in text\n",
      "    mode.  Other common values are 'w' for writing (truncating the file if\n",
      "    it already exists), 'x' for creating and writing to a new file, and\n",
      "    'a' for appending (which on some Unix systems, means that all writes\n",
      "    append to the end of the file regardless of the current seek position).\n",
      "    In text mode, if encoding is not specified the encoding used is platform\n",
      "    dependent: locale.getpreferredencoding(False) is called to get the\n",
      "    current locale encoding. (For reading and writing raw bytes use binary\n",
      "    mode and leave encoding unspecified.) The available modes are:\n",
      "    \n",
      "    ========= ===============================================================\n",
      "    Character Meaning\n",
      "    --------- ---------------------------------------------------------------\n",
      "    'r'       open for reading (default)\n",
      "    'w'       open for writing, truncating the file first\n",
      "    'x'       create a new file and open it for writing\n",
      "    'a'       open for writing, appending to the end of the file if it exists\n",
      "    'b'       binary mode\n",
      "    't'       text mode (default)\n",
      "    '+'       open a disk file for updating (reading and writing)\n",
      "    'U'       universal newline mode (deprecated)\n",
      "    ========= ===============================================================\n",
      "    \n",
      "    The default mode is 'rt' (open for reading text). For binary random\n",
      "    access, the mode 'w+b' opens and truncates the file to 0 bytes, while\n",
      "    'r+b' opens the file without truncation. The 'x' mode implies 'w' and\n",
      "    raises an `FileExistsError` if the file already exists.\n",
      "    \n",
      "    Python distinguishes between files opened in binary and text modes,\n",
      "    even when the underlying operating system doesn't. Files opened in\n",
      "    binary mode (appending 'b' to the mode argument) return contents as\n",
      "    bytes objects without any decoding. In text mode (the default, or when\n",
      "    't' is appended to the mode argument), the contents of the file are\n",
      "    returned as strings, the bytes having been first decoded using a\n",
      "    platform-dependent encoding or using the specified encoding if given.\n",
      "    \n",
      "    'U' mode is deprecated and will raise an exception in future versions\n",
      "    of Python.  It has no effect in Python 3.  Use newline to control\n",
      "    universal newlines mode.\n",
      "    \n",
      "    buffering is an optional integer used to set the buffering policy.\n",
      "    Pass 0 to switch buffering off (only allowed in binary mode), 1 to select\n",
      "    line buffering (only usable in text mode), and an integer > 1 to indicate\n",
      "    the size of a fixed-size chunk buffer.  When no buffering argument is\n",
      "    given, the default buffering policy works as follows:\n",
      "    \n",
      "    * Binary files are buffered in fixed-size chunks; the size of the buffer\n",
      "      is chosen using a heuristic trying to determine the underlying device's\n",
      "      \"block size\" and falling back on `io.DEFAULT_BUFFER_SIZE`.\n",
      "      On many systems, the buffer will typically be 4096 or 8192 bytes long.\n",
      "    \n",
      "    * \"Interactive\" text files (files for which isatty() returns True)\n",
      "      use line buffering.  Other text files use the policy described above\n",
      "      for binary files.\n",
      "    \n",
      "    encoding is the name of the encoding used to decode or encode the\n",
      "    file. This should only be used in text mode. The default encoding is\n",
      "    platform dependent, but any encoding supported by Python can be\n",
      "    passed.  See the codecs module for the list of supported encodings.\n",
      "    \n",
      "    errors is an optional string that specifies how encoding errors are to\n",
      "    be handled---this argument should not be used in binary mode. Pass\n",
      "    'strict' to raise a ValueError exception if there is an encoding error\n",
      "    (the default of None has the same effect), or pass 'ignore' to ignore\n",
      "    errors. (Note that ignoring encoding errors can lead to data loss.)\n",
      "    See the documentation for codecs.register or run 'help(codecs.Codec)'\n",
      "    for a list of the permitted encoding error strings.\n",
      "    \n",
      "    newline controls how universal newlines works (it only applies to text\n",
      "    mode). It can be None, '', '\\n', '\\r', and '\\r\\n'.  It works as\n",
      "    follows:\n",
      "    \n",
      "    * On input, if newline is None, universal newlines mode is\n",
      "      enabled. Lines in the input can end in '\\n', '\\r', or '\\r\\n', and\n",
      "      these are translated into '\\n' before being returned to the\n",
      "      caller. If it is '', universal newline mode is enabled, but line\n",
      "      endings are returned to the caller untranslated. If it has any of\n",
      "      the other legal values, input lines are only terminated by the given\n",
      "      string, and the line ending is returned to the caller untranslated.\n",
      "    \n",
      "    * On output, if newline is None, any '\\n' characters written are\n",
      "      translated to the system default line separator, os.linesep. If\n",
      "      newline is '' or '\\n', no translation takes place. If newline is any\n",
      "      of the other legal values, any '\\n' characters written are translated\n",
      "      to the given string.\n",
      "    \n",
      "    If closefd is False, the underlying file descriptor will be kept open\n",
      "    when the file is closed. This does not work when a file name is given\n",
      "    and must be True in that case.\n",
      "    \n",
      "    A custom opener can be used by passing a callable as *opener*. The\n",
      "    underlying file descriptor for the file object is then obtained by\n",
      "    calling *opener* with (*file*, *flags*). *opener* must return an open\n",
      "    file descriptor (passing os.open as *opener* results in functionality\n",
      "    similar to passing None).\n",
      "    \n",
      "    open() returns a file object whose type depends on the mode, and\n",
      "    through which the standard file operations such as reading and writing\n",
      "    are performed. When open() is used to open a file in a text mode ('w',\n",
      "    'r', 'wt', 'rt', etc.), it returns a TextIOWrapper. When used to open\n",
      "    a file in a binary mode, the returned class varies: in read binary\n",
      "    mode, it returns a BufferedReader; in write binary and append binary\n",
      "    modes, it returns a BufferedWriter, and in read/write mode, it returns\n",
      "    a BufferedRandom.\n",
      "    \n",
      "    It is also possible to use a string or bytearray as a file for both\n",
      "    reading and writing. For strings StringIO can be used like a file\n",
      "    opened in a text mode, and for bytes a BytesIO can be used like a file\n",
      "    opened in a binary mode.\n",
      "\n"
     ]
    }
   ],
   "source": [
    "help(open)"
   ]
  },
  {
   "cell_type": "markdown",
   "id": "5ded2e34-5915-4060-885e-0df3540f7b3d",
   "metadata": {},
   "source": [
    "### Reading a file:\n",
    "1. Open the file\n",
    "2. Read its lines\n",
    "3. Parse whatever you want from those lines\n",
    "4. Close it"
   ]
  },
  {
   "cell_type": "code",
   "execution_count": 14,
   "id": "a0dd643d-4899-4a6a-ae19-867c2336155a",
   "metadata": {},
   "outputs": [],
   "source": [
    "# open it with read permissions\n",
    "myfile = open('example.txt', 'r')"
   ]
  },
  {
   "cell_type": "code",
   "execution_count": 15,
   "id": "498370ae-7bbc-42b6-9b27-f897703d3a15",
   "metadata": {},
   "outputs": [],
   "source": [
    "# read it\n",
    "lines = myfile.readlines()"
   ]
  },
  {
   "cell_type": "code",
   "execution_count": 16,
   "id": "74f891c6-acfb-4e0d-bc2b-91f88f4bffbf",
   "metadata": {},
   "outputs": [],
   "source": [
    "# close it\n",
    "myfile.close()"
   ]
  },
  {
   "cell_type": "markdown",
   "id": "abb97c8b-f97c-486c-bc28-8e731d7a3c54",
   "metadata": {},
   "source": [
    "__Note__: for very large files, or ones which the information you care about is at the start, see `readline` to read one line at a time instead of loading the whole file into memory."
   ]
  },
  {
   "cell_type": "code",
   "execution_count": 17,
   "id": "65fbadb1-096e-4299-a42f-5a06e9c4e7b6",
   "metadata": {},
   "outputs": [
    {
     "name": "stdout",
     "output_type": "stream",
     "text": [
      "Number of lines read: 16\n"
     ]
    }
   ],
   "source": [
    "print(f'Number of lines read: {len(lines)}')"
   ]
  },
  {
   "cell_type": "code",
   "execution_count": 22,
   "id": "550ac49f-6944-4057-b481-3fa84002f6f2",
   "metadata": {},
   "outputs": [
    {
     "data": {
      "text/plain": [
       "['This is a file I just made up.\\n',\n",
       " '\\n',\n",
       " 'I am going to ramble on about some random stuff.\\n',\n",
       " '\\n',\n",
       " 'Here is another sentence.\\n',\n",
       " '\\n',\n",
       " 'Below is some data:\\n',\n",
       " '1\\n',\n",
       " '2\\n',\n",
       " '3\\n',\n",
       " '2\\n',\n",
       " '3\\n',\n",
       " '1\\n',\n",
       " '4\\n',\n",
       " 'End of data.\\n',\n",
       " 'End of file.']"
      ]
     },
     "execution_count": 22,
     "metadata": {},
     "output_type": "execute_result"
    }
   ],
   "source": [
    "lines"
   ]
  },
  {
   "cell_type": "markdown",
   "id": "72e5d7bc-4ea6-4c6c-af67-3af17b5b356f",
   "metadata": {},
   "source": [
    "> It is a list of lines! The `\\n` is a string that indicates a new line in the file eg. an \"enter\""
   ]
  },
  {
   "cell_type": "code",
   "execution_count": 19,
   "id": "dd21f3ba-dd10-441d-a66f-ca2d90609223",
   "metadata": {},
   "outputs": [
    {
     "name": "stdout",
     "output_type": "stream",
     "text": [
      "This is a file I just made up.\n",
      "\n",
      "\n",
      "\n",
      "I am going to ramble on about some random stuff.\n",
      "\n",
      "\n",
      "\n",
      "Here is another sentence.\n",
      "\n",
      "\n",
      "\n",
      "Below is some data:\n",
      "\n",
      "1\n",
      "\n",
      "2\n",
      "\n",
      "3\n",
      "\n",
      "2\n",
      "\n",
      "3\n",
      "\n",
      "1\n",
      "\n",
      "4\n",
      "\n",
      "End of data.\n",
      "\n",
      "End of file.\n"
     ]
    }
   ],
   "source": [
    "for line in lines:\n",
    "    print(line)"
   ]
  },
  {
   "cell_type": "markdown",
   "id": "4e22e6db-dcbe-459a-8a00-18f0b248b34f",
   "metadata": {},
   "source": [
    "***\n",
    "__Let's get some data from it.__"
   ]
  },
  {
   "cell_type": "code",
   "execution_count": 33,
   "id": "efae2930-f89c-4bba-b237-318f486ddad9",
   "metadata": {},
   "outputs": [],
   "source": [
    "found_data = False\n",
    "data = []\n",
    "for line in lines:\n",
    "    # start counting when we find data\n",
    "    if line.startswith('Below is'):\n",
    "        found_data = True\n",
    "        continue                    # skip this line\n",
    "    elif line.startswith('End of data'):\n",
    "        break                       # we are done, break out of loop\n",
    "    \n",
    "    # once we've found data start recording\n",
    "    if found_data:\n",
    "        data.append(line.split()[0])\n",
    "data = numpy.array(data).astype(int)"
   ]
  },
  {
   "cell_type": "code",
   "execution_count": 34,
   "id": "b772ca2e-014f-4dd6-825a-f57eec26b317",
   "metadata": {},
   "outputs": [
    {
     "data": {
      "text/plain": [
       "array([1, 2, 3, 2, 3, 1, 4])"
      ]
     },
     "execution_count": 34,
     "metadata": {},
     "output_type": "execute_result"
    }
   ],
   "source": [
    "data"
   ]
  },
  {
   "cell_type": "markdown",
   "id": "bda37f62-6aad-4511-9a6f-497b6aa38e18",
   "metadata": {},
   "source": [
    "***\n",
    "__A more complex case__"
   ]
  },
  {
   "cell_type": "code",
   "execution_count": 50,
   "id": "84361a4f-69bd-46e7-9ba9-7b05da745988",
   "metadata": {},
   "outputs": [],
   "source": [
    "def load_xyz(filename):\n",
    "    \"\"\"Reads information from an xyz file.\n",
    "    input : str, path to xyz\n",
    "    returns: \n",
    "        list : atom symbols\n",
    "        array : atom positions\n",
    "    \"\"\"\n",
    "    try:\n",
    "        isinstance(filename,str)\n",
    "    except:\n",
    "        print(\"Missing filename - data can't be loaded!!\", sys.exc_info()[0])\n",
    "        raise\n",
    "    xfile = open(filename, \"r\")\n",
    "    lists = [line.strip().split() for line in xfile.readlines()]\n",
    "    xfile.close()\n",
    "    \n",
    "    natoms_file=int(lists[0][0])\n",
    "    natoms_parsed=len(lists)-2\n",
    "\n",
    "    assert natoms_file == natoms_parsed,\\\n",
    "        \"Atom number in xyz file does not match number of atoms!\"\n",
    "\n",
    "    atom_name_list=[]\n",
    "    coords_list=[]\n",
    "\n",
    "    for i in range(2, int(natoms_file)+2):\n",
    "        atom_name_list.append(lists[i][0])\n",
    "        coords_tmp = [float(item) for item in lists[i][-3:]]\n",
    "        coords_list.append((coords_tmp))\n",
    "    \n",
    "    positions = numpy.array(coords_list)\n",
    "    \n",
    "    return atom_name_list, positions"
   ]
  },
  {
   "cell_type": "code",
   "execution_count": 51,
   "id": "507796af-d7e8-4866-9ce3-7bedccf71aee",
   "metadata": {},
   "outputs": [],
   "source": [
    "atoms, positions = load_xyz('example.xyz')"
   ]
  },
  {
   "cell_type": "code",
   "execution_count": 54,
   "id": "02bbc482-6309-4d17-a5c7-750581cac77c",
   "metadata": {},
   "outputs": [
    {
     "data": {
      "text/plain": [
       "['O', 'O', 'H', 'H']"
      ]
     },
     "execution_count": 54,
     "metadata": {},
     "output_type": "execute_result"
    }
   ],
   "source": [
    "atoms"
   ]
  },
  {
   "cell_type": "code",
   "execution_count": 55,
   "id": "96f95cca-e4db-4b9e-8a46-eb4644de3391",
   "metadata": {},
   "outputs": [
    {
     "data": {
      "text/plain": [
       "array([[ 0.76084126, -0.20911844,  0.08146159],\n",
       "       [-0.76085258, -0.21718893, -0.05653419],\n",
       "       [ 0.96664141, -0.49708866, -0.85567805],\n",
       "       [-0.96663602, -0.39408615,  0.90776292]])"
      ]
     },
     "execution_count": 55,
     "metadata": {},
     "output_type": "execute_result"
    }
   ],
   "source": [
    "positions"
   ]
  },
  {
   "cell_type": "markdown",
   "id": "3be58f86-0ab4-4744-b0b3-d2d6f7cf6b17",
   "metadata": {},
   "source": [
    "### Writing to file:\n",
    "1. Open it\n",
    "2. Write your lines\n",
    "3. close it"
   ]
  },
  {
   "cell_type": "code",
   "execution_count": 35,
   "id": "bd7568b2-2e21-439a-aec9-f6082032b4ef",
   "metadata": {},
   "outputs": [],
   "source": [
    "myfile = open('myfile.dat', 'w')"
   ]
  },
  {
   "cell_type": "code",
   "execution_count": 37,
   "id": "04929389-568f-4685-8b01-199077e711a6",
   "metadata": {},
   "outputs": [],
   "source": [
    "for datapoint in data:\n",
    "    # files can only contain strings, so we have to convert\n",
    "    myfile.write(str(datapoint))"
   ]
  },
  {
   "cell_type": "code",
   "execution_count": 38,
   "id": "baae56a3-65ae-4212-8a09-8fce2df676ad",
   "metadata": {},
   "outputs": [],
   "source": [
    "myfile.close()"
   ]
  },
  {
   "cell_type": "markdown",
   "id": "8a2bcd5d-5229-4f18-b80f-9f5b1c22189c",
   "metadata": {},
   "source": [
    "> It just pasted them all in one line, when we propbably want to store each datapoint seperately!"
   ]
  },
  {
   "cell_type": "code",
   "execution_count": 44,
   "id": "7b94c267-bd87-4c93-b35e-3df1b4124b47",
   "metadata": {},
   "outputs": [],
   "source": [
    "os.remove('myfile.dat')"
   ]
  },
  {
   "cell_type": "code",
   "execution_count": 45,
   "id": "d8e247f0-0168-4b0e-92f8-6fda9056535c",
   "metadata": {},
   "outputs": [],
   "source": [
    "myfile = open('myfile.dat', 'w')"
   ]
  },
  {
   "cell_type": "code",
   "execution_count": 46,
   "id": "2c87153b-1620-4b9d-98ed-868480ed4300",
   "metadata": {},
   "outputs": [],
   "source": [
    "for datapoint in data:\n",
    "    # files can only contain strings, so we have to convert\n",
    "    myfile.write(str(datapoint))\n",
    "    myfile.write('\\n')"
   ]
  },
  {
   "cell_type": "code",
   "execution_count": 47,
   "id": "1676ad2b-e7b6-4010-93f2-76f5c5b457ee",
   "metadata": {},
   "outputs": [],
   "source": [
    "myfile.close()"
   ]
  },
  {
   "cell_type": "code",
   "execution_count": 48,
   "id": "d4dd9997-b3da-4464-b292-9db930836f2d",
   "metadata": {},
   "outputs": [],
   "source": [
    "os.remove('myfile.dat')"
   ]
  },
  {
   "cell_type": "markdown",
   "id": "929ce369-4214-48dc-8477-f0d2e2f3e893",
   "metadata": {},
   "source": [
    "***\n",
    "***\n",
    "\n",
    "## Pandas and csv files\n",
    "\n",
    "Pandas is a python library that was created to handle data, and it is a very useful tool for that purpose. Let's say we have an a number of dependant variables, we would like to represent different datapoints for those variables as an excel-like"
   ]
  },
  {
   "cell_type": "code",
   "execution_count": 59,
   "id": "d1ccf119-4da0-4c38-beb8-55d6b709aa44",
   "metadata": {},
   "outputs": [],
   "source": [
    "df = pandas.DataFrame({\n",
    "    'x': data\n",
    "})"
   ]
  },
  {
   "cell_type": "code",
   "execution_count": 60,
   "id": "88d9489d-4a3c-4041-b257-cb700fc0a435",
   "metadata": {},
   "outputs": [
    {
     "data": {
      "text/html": [
       "<div>\n",
       "<style scoped>\n",
       "    .dataframe tbody tr th:only-of-type {\n",
       "        vertical-align: middle;\n",
       "    }\n",
       "\n",
       "    .dataframe tbody tr th {\n",
       "        vertical-align: top;\n",
       "    }\n",
       "\n",
       "    .dataframe thead th {\n",
       "        text-align: right;\n",
       "    }\n",
       "</style>\n",
       "<table border=\"1\" class=\"dataframe\">\n",
       "  <thead>\n",
       "    <tr style=\"text-align: right;\">\n",
       "      <th></th>\n",
       "      <th>x</th>\n",
       "    </tr>\n",
       "  </thead>\n",
       "  <tbody>\n",
       "    <tr>\n",
       "      <th>0</th>\n",
       "      <td>1</td>\n",
       "    </tr>\n",
       "    <tr>\n",
       "      <th>1</th>\n",
       "      <td>2</td>\n",
       "    </tr>\n",
       "    <tr>\n",
       "      <th>2</th>\n",
       "      <td>3</td>\n",
       "    </tr>\n",
       "    <tr>\n",
       "      <th>3</th>\n",
       "      <td>2</td>\n",
       "    </tr>\n",
       "    <tr>\n",
       "      <th>4</th>\n",
       "      <td>3</td>\n",
       "    </tr>\n",
       "    <tr>\n",
       "      <th>5</th>\n",
       "      <td>1</td>\n",
       "    </tr>\n",
       "    <tr>\n",
       "      <th>6</th>\n",
       "      <td>4</td>\n",
       "    </tr>\n",
       "  </tbody>\n",
       "</table>\n",
       "</div>"
      ],
      "text/plain": [
       "   x\n",
       "0  1\n",
       "1  2\n",
       "2  3\n",
       "3  2\n",
       "4  3\n",
       "5  1\n",
       "6  4"
      ]
     },
     "execution_count": 60,
     "metadata": {},
     "output_type": "execute_result"
    }
   ],
   "source": [
    "df "
   ]
  },
  {
   "cell_type": "markdown",
   "id": "f65cf972-834b-4491-8b64-b61addb576da",
   "metadata": {},
   "source": [
    "Add another variable."
   ]
  },
  {
   "cell_type": "code",
   "execution_count": 61,
   "id": "d47a3dab-ee41-4bb0-8842-03d1027acfcf",
   "metadata": {},
   "outputs": [],
   "source": [
    "df['y'] = df['x'].apply(lambda x: x**2+1)"
   ]
  },
  {
   "cell_type": "code",
   "execution_count": 62,
   "id": "4b4d17eb-b318-4040-8e00-b58eaadc1be4",
   "metadata": {},
   "outputs": [
    {
     "data": {
      "text/html": [
       "<div>\n",
       "<style scoped>\n",
       "    .dataframe tbody tr th:only-of-type {\n",
       "        vertical-align: middle;\n",
       "    }\n",
       "\n",
       "    .dataframe tbody tr th {\n",
       "        vertical-align: top;\n",
       "    }\n",
       "\n",
       "    .dataframe thead th {\n",
       "        text-align: right;\n",
       "    }\n",
       "</style>\n",
       "<table border=\"1\" class=\"dataframe\">\n",
       "  <thead>\n",
       "    <tr style=\"text-align: right;\">\n",
       "      <th></th>\n",
       "      <th>x</th>\n",
       "      <th>y</th>\n",
       "    </tr>\n",
       "  </thead>\n",
       "  <tbody>\n",
       "    <tr>\n",
       "      <th>0</th>\n",
       "      <td>1</td>\n",
       "      <td>2</td>\n",
       "    </tr>\n",
       "    <tr>\n",
       "      <th>1</th>\n",
       "      <td>2</td>\n",
       "      <td>5</td>\n",
       "    </tr>\n",
       "    <tr>\n",
       "      <th>2</th>\n",
       "      <td>3</td>\n",
       "      <td>10</td>\n",
       "    </tr>\n",
       "    <tr>\n",
       "      <th>3</th>\n",
       "      <td>2</td>\n",
       "      <td>5</td>\n",
       "    </tr>\n",
       "    <tr>\n",
       "      <th>4</th>\n",
       "      <td>3</td>\n",
       "      <td>10</td>\n",
       "    </tr>\n",
       "    <tr>\n",
       "      <th>5</th>\n",
       "      <td>1</td>\n",
       "      <td>2</td>\n",
       "    </tr>\n",
       "    <tr>\n",
       "      <th>6</th>\n",
       "      <td>4</td>\n",
       "      <td>17</td>\n",
       "    </tr>\n",
       "  </tbody>\n",
       "</table>\n",
       "</div>"
      ],
      "text/plain": [
       "   x   y\n",
       "0  1   2\n",
       "1  2   5\n",
       "2  3  10\n",
       "3  2   5\n",
       "4  3  10\n",
       "5  1   2\n",
       "6  4  17"
      ]
     },
     "execution_count": 62,
     "metadata": {},
     "output_type": "execute_result"
    }
   ],
   "source": [
    "df"
   ]
  },
  {
   "cell_type": "markdown",
   "id": "c0f9d29a-b7d3-41c6-9306-ae19a0e7fa47",
   "metadata": {},
   "source": [
    "> We have an x and a y variable related to eachother, and we have 7 datapoints. We can have as long and as wide a dataframe as we want."
   ]
  },
  {
   "cell_type": "markdown",
   "id": "5fba618c-341c-4f87-bd91-521f050e5b4c",
   "metadata": {},
   "source": [
    "### Tangent: Pandas can do a ton of cool shit"
   ]
  },
  {
   "cell_type": "markdown",
   "id": "f4bddcd4-d007-4ce1-9fcf-46039e91f1f7",
   "metadata": {},
   "source": [
    "We can get stats on our data"
   ]
  },
  {
   "cell_type": "code",
   "execution_count": 63,
   "id": "849f0dd5-6c62-44ca-9e63-0a904261d0a0",
   "metadata": {},
   "outputs": [
    {
     "data": {
      "text/html": [
       "<div>\n",
       "<style scoped>\n",
       "    .dataframe tbody tr th:only-of-type {\n",
       "        vertical-align: middle;\n",
       "    }\n",
       "\n",
       "    .dataframe tbody tr th {\n",
       "        vertical-align: top;\n",
       "    }\n",
       "\n",
       "    .dataframe thead th {\n",
       "        text-align: right;\n",
       "    }\n",
       "</style>\n",
       "<table border=\"1\" class=\"dataframe\">\n",
       "  <thead>\n",
       "    <tr style=\"text-align: right;\">\n",
       "      <th></th>\n",
       "      <th>x</th>\n",
       "      <th>y</th>\n",
       "    </tr>\n",
       "  </thead>\n",
       "  <tbody>\n",
       "    <tr>\n",
       "      <th>count</th>\n",
       "      <td>7.000000</td>\n",
       "      <td>7.000000</td>\n",
       "    </tr>\n",
       "    <tr>\n",
       "      <th>mean</th>\n",
       "      <td>2.285714</td>\n",
       "      <td>7.285714</td>\n",
       "    </tr>\n",
       "    <tr>\n",
       "      <th>std</th>\n",
       "      <td>1.112697</td>\n",
       "      <td>5.407226</td>\n",
       "    </tr>\n",
       "    <tr>\n",
       "      <th>min</th>\n",
       "      <td>1.000000</td>\n",
       "      <td>2.000000</td>\n",
       "    </tr>\n",
       "    <tr>\n",
       "      <th>25%</th>\n",
       "      <td>1.500000</td>\n",
       "      <td>3.500000</td>\n",
       "    </tr>\n",
       "    <tr>\n",
       "      <th>50%</th>\n",
       "      <td>2.000000</td>\n",
       "      <td>5.000000</td>\n",
       "    </tr>\n",
       "    <tr>\n",
       "      <th>75%</th>\n",
       "      <td>3.000000</td>\n",
       "      <td>10.000000</td>\n",
       "    </tr>\n",
       "    <tr>\n",
       "      <th>max</th>\n",
       "      <td>4.000000</td>\n",
       "      <td>17.000000</td>\n",
       "    </tr>\n",
       "  </tbody>\n",
       "</table>\n",
       "</div>"
      ],
      "text/plain": [
       "              x          y\n",
       "count  7.000000   7.000000\n",
       "mean   2.285714   7.285714\n",
       "std    1.112697   5.407226\n",
       "min    1.000000   2.000000\n",
       "25%    1.500000   3.500000\n",
       "50%    2.000000   5.000000\n",
       "75%    3.000000  10.000000\n",
       "max    4.000000  17.000000"
      ]
     },
     "execution_count": 63,
     "metadata": {},
     "output_type": "execute_result"
    }
   ],
   "source": [
    "df.describe()"
   ]
  },
  {
   "cell_type": "markdown",
   "id": "484e9c03-67ea-4422-b3a1-021f83d802a2",
   "metadata": {},
   "source": [
    "We can plot it"
   ]
  },
  {
   "cell_type": "code",
   "execution_count": 68,
   "id": "929e1cba-ba0b-469d-8e18-fb9351f496bf",
   "metadata": {},
   "outputs": [
    {
     "data": {
      "text/plain": [
       "<AxesSubplot:xlabel='x', ylabel='y'>"
      ]
     },
     "execution_count": 68,
     "metadata": {},
     "output_type": "execute_result"
    },
    {
     "data": {
      "image/png": "[encoded data removed]",
      "text/plain": [
       "<Figure size 432x288 with 1 Axes>"
      ]
     },
     "metadata": {
      "needs_background": "light"
     },
     "output_type": "display_data"
    }
   ],
   "source": [
    "df.plot.scatter(x='x', y='y')"
   ]
  },
  {
   "cell_type": "markdown",
   "id": "324442ac-97d9-4bb9-abad-6a4be42fb0f9",
   "metadata": {},
   "source": [
    "We can bin it"
   ]
  },
  {
   "cell_type": "code",
   "execution_count": 75,
   "id": "eeb7628b-5045-41f5-9e3d-be470d85db6c",
   "metadata": {},
   "outputs": [
    {
     "data": {
      "text/html": [
       "<div>\n",
       "<style scoped>\n",
       "    .dataframe tbody tr th:only-of-type {\n",
       "        vertical-align: middle;\n",
       "    }\n",
       "\n",
       "    .dataframe tbody tr th {\n",
       "        vertical-align: top;\n",
       "    }\n",
       "\n",
       "    .dataframe thead th {\n",
       "        text-align: right;\n",
       "    }\n",
       "</style>\n",
       "<table border=\"1\" class=\"dataframe\">\n",
       "  <thead>\n",
       "    <tr style=\"text-align: right;\">\n",
       "      <th></th>\n",
       "      <th>x</th>\n",
       "      <th>y</th>\n",
       "    </tr>\n",
       "    <tr>\n",
       "      <th>y</th>\n",
       "      <th></th>\n",
       "      <th></th>\n",
       "    </tr>\n",
       "  </thead>\n",
       "  <tbody>\n",
       "    <tr>\n",
       "      <th>(1.985, 5.0]</th>\n",
       "      <td>4</td>\n",
       "      <td>4</td>\n",
       "    </tr>\n",
       "    <tr>\n",
       "      <th>(5.0, 8.0]</th>\n",
       "      <td>0</td>\n",
       "      <td>0</td>\n",
       "    </tr>\n",
       "    <tr>\n",
       "      <th>(8.0, 11.0]</th>\n",
       "      <td>2</td>\n",
       "      <td>2</td>\n",
       "    </tr>\n",
       "    <tr>\n",
       "      <th>(11.0, 14.0]</th>\n",
       "      <td>0</td>\n",
       "      <td>0</td>\n",
       "    </tr>\n",
       "    <tr>\n",
       "      <th>(14.0, 17.0]</th>\n",
       "      <td>1</td>\n",
       "      <td>1</td>\n",
       "    </tr>\n",
       "  </tbody>\n",
       "</table>\n",
       "</div>"
      ],
      "text/plain": [
       "              x  y\n",
       "y                 \n",
       "(1.985, 5.0]  4  4\n",
       "(5.0, 8.0]    0  0\n",
       "(8.0, 11.0]   2  2\n",
       "(11.0, 14.0]  0  0\n",
       "(14.0, 17.0]  1  1"
      ]
     },
     "execution_count": 75,
     "metadata": {},
     "output_type": "execute_result"
    }
   ],
   "source": [
    "df.groupby(\n",
    "    pandas.cut(df['y'], bins=5)\n",
    ").count()"
   ]
  },
  {
   "cell_type": "markdown",
   "id": "42583b96-0536-4475-9c57-d994947c4e49",
   "metadata": {},
   "source": [
    "And on and on..."
   ]
  },
  {
   "cell_type": "markdown",
   "id": "fd86d9ae-98d8-4ba9-ace6-fa450b3c4d7b",
   "metadata": {},
   "source": [
    "### Back on track: save our data as csv, load a csv\n",
    "Its super easy."
   ]
  },
  {
   "cell_type": "code",
   "execution_count": 76,
   "id": "92272fdd-78a5-4403-8a0f-dbb85e60c5d4",
   "metadata": {},
   "outputs": [],
   "source": [
    "df.to_csv('mydata.csv')"
   ]
  },
  {
   "cell_type": "code",
   "execution_count": 78,
   "id": "e502b62b-74fa-4f35-8d7e-5af19cccb7e4",
   "metadata": {},
   "outputs": [
    {
     "data": {
      "text/html": [
       "<div>\n",
       "<style scoped>\n",
       "    .dataframe tbody tr th:only-of-type {\n",
       "        vertical-align: middle;\n",
       "    }\n",
       "\n",
       "    .dataframe tbody tr th {\n",
       "        vertical-align: top;\n",
       "    }\n",
       "\n",
       "    .dataframe thead th {\n",
       "        text-align: right;\n",
       "    }\n",
       "</style>\n",
       "<table border=\"1\" class=\"dataframe\">\n",
       "  <thead>\n",
       "    <tr style=\"text-align: right;\">\n",
       "      <th></th>\n",
       "      <th>x</th>\n",
       "      <th>y</th>\n",
       "    </tr>\n",
       "  </thead>\n",
       "  <tbody>\n",
       "    <tr>\n",
       "      <th>0</th>\n",
       "      <td>1</td>\n",
       "      <td>2</td>\n",
       "    </tr>\n",
       "    <tr>\n",
       "      <th>1</th>\n",
       "      <td>2</td>\n",
       "      <td>5</td>\n",
       "    </tr>\n",
       "    <tr>\n",
       "      <th>2</th>\n",
       "      <td>3</td>\n",
       "      <td>10</td>\n",
       "    </tr>\n",
       "    <tr>\n",
       "      <th>3</th>\n",
       "      <td>2</td>\n",
       "      <td>5</td>\n",
       "    </tr>\n",
       "    <tr>\n",
       "      <th>4</th>\n",
       "      <td>3</td>\n",
       "      <td>10</td>\n",
       "    </tr>\n",
       "    <tr>\n",
       "      <th>5</th>\n",
       "      <td>1</td>\n",
       "      <td>2</td>\n",
       "    </tr>\n",
       "    <tr>\n",
       "      <th>6</th>\n",
       "      <td>4</td>\n",
       "      <td>17</td>\n",
       "    </tr>\n",
       "  </tbody>\n",
       "</table>\n",
       "</div>"
      ],
      "text/plain": [
       "   x   y\n",
       "0  1   2\n",
       "1  2   5\n",
       "2  3  10\n",
       "3  2   5\n",
       "4  3  10\n",
       "5  1   2\n",
       "6  4  17"
      ]
     },
     "execution_count": 78,
     "metadata": {},
     "output_type": "execute_result"
    }
   ],
   "source": [
    "another_df = pandas.read_csv('mydata.csv', index_col=0)\n",
    "another_df"
   ]
  },
  {
   "cell_type": "markdown",
   "id": "f9825e84-3678-4151-bac8-816a7da41fce",
   "metadata": {},
   "source": [
    "***\n",
    "## Regex: find patterns in text"
   ]
  },
  {
   "cell_type": "code",
   "execution_count": 79,
   "id": "132a8d6c-0d5e-4fb3-8065-37ccba9a765d",
   "metadata": {},
   "outputs": [],
   "source": [
    "import re"
   ]
  },
  {
   "cell_type": "code",
   "execution_count": 80,
   "id": "eb74fa7a-68dd-4227-a6d5-1c1cf1b611fa",
   "metadata": {},
   "outputs": [],
   "source": [
    "toy_string = \"\"\"\n",
    "Stuff I don't care about\n",
    "------------------------\n",
    ">> Some more things\n",
    "None\n",
    "Of\n",
    "This\n",
    "Matters\n",
    "\n",
    "| Data |\n",
    "    1\n",
    "    2\n",
    "    5\n",
    "    1\n",
    "\n",
    "------------------------\n",
    "Other Things\n",
    ">> Don't care\n",
    "Total value: 20.1\n",
    "\n",
    "Thank you for looking at this string\n",
    "End of file.\n",
    "\"\"\""
   ]
  },
  {
   "cell_type": "markdown",
   "id": "004a1d0d-7006-4008-a3af-f8c67dadfe67",
   "metadata": {},
   "source": [
    "We can extract things from this file by defining patters"
   ]
  },
  {
   "cell_type": "code",
   "execution_count": 89,
   "id": "62f0423d-0389-49a4-84bc-c29c95dce7c4",
   "metadata": {},
   "outputs": [],
   "source": [
    "value_pattern = 'Total value: (.*)'"
   ]
  },
  {
   "cell_type": "markdown",
   "id": "3dbdc0f5-ff82-4d1a-a85a-b80c4152622a",
   "metadata": {},
   "source": [
    "- The first part of the patter is just a literal, as in the pattern only matches the string if it has those characters in it\n",
    "- The parenthasis mean give me whats in side\n",
    "- The `.` matches any character and the `*` means repeat until end of line, so .* means everything until the end of line"
   ]
  },
  {
   "cell_type": "code",
   "execution_count": 91,
   "id": "17f40973-83a6-4ddd-847f-304fa9cfbdbb",
   "metadata": {},
   "outputs": [
    {
     "data": {
      "text/plain": [
       "['20.1']"
      ]
     },
     "execution_count": 91,
     "metadata": {},
     "output_type": "execute_result"
    }
   ],
   "source": [
    "re.findall(\n",
    "    value_pattern,\n",
    "    toy_string\n",
    ")"
   ]
  },
  {
   "cell_type": "code",
   "execution_count": 151,
   "id": "b4c827f5-7ed4-4459-ac8f-21201acfcd8b",
   "metadata": {},
   "outputs": [],
   "source": [
    "data_pattern = '(?<=/| Data /|)(.*)(?=\\n\\n)'\n",
    "data_pattern = '\\| Data \\|([\\S\\s]*?)(?=\\n\\n)'"
   ]
  },
  {
   "cell_type": "code",
   "execution_count": 155,
   "id": "2e05d326-7029-40c8-867f-e836c35c5ed2",
   "metadata": {},
   "outputs": [],
   "source": [
    "out = re.findall(\n",
    "    data_pattern,\n",
    "    toy_string\n",
    ")[0]"
   ]
  },
  {
   "cell_type": "code",
   "execution_count": 156,
   "id": "405f6f90-7505-4497-a059-1e7552462fa5",
   "metadata": {},
   "outputs": [
    {
     "data": {
      "text/plain": [
       "['1', '2', '5', '1']"
      ]
     },
     "execution_count": 156,
     "metadata": {},
     "output_type": "execute_result"
    }
   ],
   "source": [
    "out.split()"
   ]
  },
  {
   "cell_type": "markdown",
   "id": "61256d50-2609-40e9-835a-620ce772b92c",
   "metadata": {},
   "source": [
    "- `\\| Data \\|` is literal, \\ is used because | is a special character, and we want to look for the |'s in the string\n",
    "- `([\\S\\s]*?)` means match everything __including new lines__, the ? at the end means match until the next pattern is matched for __the first time__, if that wasn't there it would capture eveything until __the last__ match of the next pattern\n",
    "- `(?=\\n\\n)` means match everything __behind__ two new lines"
   ]
  },
  {
   "cell_type": "markdown",
   "id": "7ead3061-b7b3-42ce-b282-64739296a741",
   "metadata": {},
   "source": [
    "> regex is basically its own language, so there is a lot to learn, but can be very helpful"
   ]
  },
  {
   "cell_type": "code",
   "execution_count": null,
   "id": "4fa16c1a-6fbf-407b-b34c-516e7f632eb2",
   "metadata": {},
   "outputs": [],
   "source": []
  }
 ],
 "metadata": {
  "kernelspec": {
   "display_name": "Python 3",
   "language": "python",
   "name": "python3"
  },
  "language_info": {
   "codemirror_mode": {
    "name": "ipython",
    "version": 3
   },
   "file_extension": ".py",
   "mimetype": "text/x-python",
   "name": "python",
   "nbconvert_exporter": "python",
   "pygments_lexer": "ipython3",
   "version": "3.7.10"
  }
 },
 "nbformat": 4,
 "nbformat_minor": 5
}
