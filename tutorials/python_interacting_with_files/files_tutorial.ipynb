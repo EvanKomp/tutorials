{
 "cells": [
  {
   "cell_type": "markdown",
   "id": "aad3ca4c-c0c9-4fca-ba27-b945658b743f",
   "metadata": {},
   "source": [
    "# Interacting, reading, writing files in python\n",
    "## Contents\n",
    "- basic access\n",
    "- csvs\n",
    "- regex"
   ]
  },
  {
   "cell_type": "code",
   "execution_count": null,
   "id": "8165a26a-00e6-401d-a88f-a65079dcf324",
   "metadata": {},
   "outputs": [],
   "source": [
    "import numpy\n",
    "import pandas\n",
    "import os"
   ]
  },
  {
   "cell_type": "markdown",
   "id": "0e1dd9d5-a8b7-4b6f-b3ab-3d0e8b864d3d",
   "metadata": {},
   "source": [
    "***\n",
    "***"
   ]
  },
  {
   "cell_type": "markdown",
   "id": "b03cd5b3-9cce-4861-ac3b-5c172b4eb3ce",
   "metadata": {},
   "source": [
    "## Basic Access"
   ]
  },
  {
   "cell_type": "markdown",
   "id": "82cdc8e9-636c-4cae-8385-ea064c7b1834",
   "metadata": {},
   "source": [
    "Files can be opened with the builtin function `open`. We must specify what we want to do with that file, eg. read, write."
   ]
  },
  {
   "cell_type": "code",
   "execution_count": null,
   "id": "1aa3a380-5df9-4dd5-b39c-41edb866c199",
   "metadata": {
    "tags": []
   },
   "outputs": [],
   "source": [
    "help(open)"
   ]
  },
  {
   "cell_type": "markdown",
   "id": "5ded2e34-5915-4060-885e-0df3540f7b3d",
   "metadata": {},
   "source": [
    "### Reading a file:\n",
    "1. Open the file\n",
    "2. Read its lines\n",
    "3. Parse whatever you want from those lines\n",
    "4. Close it"
   ]
  },
  {
   "cell_type": "code",
   "execution_count": null,
   "id": "a0dd643d-4899-4a6a-ae19-867c2336155a",
   "metadata": {},
   "outputs": [],
   "source": [
    "# open it with read permissions\n",
    "myfile = open('example.txt', 'r')"
   ]
  },
  {
   "cell_type": "code",
   "execution_count": null,
   "id": "498370ae-7bbc-42b6-9b27-f897703d3a15",
   "metadata": {},
   "outputs": [],
   "source": [
    "# read it\n",
    "lines = myfile.readlines()"
   ]
  },
  {
   "cell_type": "code",
   "execution_count": null,
   "id": "74f891c6-acfb-4e0d-bc2b-91f88f4bffbf",
   "metadata": {},
   "outputs": [],
   "source": [
    "# close it\n",
    "myfile.close()"
   ]
  },
  {
   "cell_type": "markdown",
   "id": "abb97c8b-f97c-486c-bc28-8e731d7a3c54",
   "metadata": {},
   "source": [
    "__Note__: for very large files, or ones which the information you care about is at the start, see `readline` to read one line at a time instead of loading the whole file into memory."
   ]
  },
  {
   "cell_type": "code",
   "execution_count": null,
   "id": "65fbadb1-096e-4299-a42f-5a06e9c4e7b6",
   "metadata": {},
   "outputs": [],
   "source": [
    "print(f'Number of lines read: {len(lines)}')"
   ]
  },
  {
   "cell_type": "code",
   "execution_count": null,
   "id": "550ac49f-6944-4057-b481-3fa84002f6f2",
   "metadata": {},
   "outputs": [],
   "source": [
    "lines"
   ]
  },
  {
   "cell_type": "markdown",
   "id": "72e5d7bc-4ea6-4c6c-af67-3af17b5b356f",
   "metadata": {},
   "source": [
    "> It is a list of lines! The `\\n` is a string that indicates a new line in the file eg. an \"enter\""
   ]
  },
  {
   "cell_type": "code",
   "execution_count": null,
   "id": "dd21f3ba-dd10-441d-a66f-ca2d90609223",
   "metadata": {},
   "outputs": [],
   "source": [
    "for line in lines:\n",
    "    print(line)"
   ]
  },
  {
   "cell_type": "markdown",
   "id": "4e22e6db-dcbe-459a-8a00-18f0b248b34f",
   "metadata": {},
   "source": [
    "***\n",
    "__Let's get some data from it.__"
   ]
  },
  {
   "cell_type": "code",
   "execution_count": null,
   "id": "efae2930-f89c-4bba-b237-318f486ddad9",
   "metadata": {},
   "outputs": [],
   "source": [
    "found_data = False\n",
    "data = []\n",
    "for line in lines:\n",
    "    # start counting when we find data\n",
    "    if line.startswith('Below is'):\n",
    "        found_data = True\n",
    "        continue                    # skip this line\n",
    "    elif line.startswith('End of data'):\n",
    "        break                       # we are done, break out of loop\n",
    "    \n",
    "    # once we've found data start recording\n",
    "    if found_data:\n",
    "        data.append(line.split()[0])\n",
    "data = numpy.array(data).astype(int)"
   ]
  },
  {
   "cell_type": "code",
   "execution_count": null,
   "id": "b772ca2e-014f-4dd6-825a-f57eec26b317",
   "metadata": {},
   "outputs": [],
   "source": [
    "data"
   ]
  },
  {
   "cell_type": "markdown",
   "id": "bda37f62-6aad-4511-9a6f-497b6aa38e18",
   "metadata": {},
   "source": [
    "***\n",
    "__A more complex case__"
   ]
  },
  {
   "cell_type": "code",
   "execution_count": null,
   "id": "84361a4f-69bd-46e7-9ba9-7b05da745988",
   "metadata": {},
   "outputs": [],
   "source": [
    "def load_xyz(filename):\n",
    "    \"\"\"Reads information from an xyz file.\n",
    "    input : str, path to xyz\n",
    "    returns: \n",
    "        list : atom symbols\n",
    "        array : atom positions\n",
    "    \"\"\"\n",
    "    try:\n",
    "        isinstance(filename,str)\n",
    "    except:\n",
    "        print(\"Missing filename - data can't be loaded!!\", sys.exc_info()[0])\n",
    "        raise\n",
    "    xfile = open(filename, \"r\")\n",
    "    lists = [line.strip().split() for line in xfile.readlines()]\n",
    "    xfile.close()\n",
    "    \n",
    "    natoms_file=int(lists[0][0])\n",
    "    natoms_parsed=len(lists)-2\n",
    "\n",
    "    assert natoms_file == natoms_parsed,\\\n",
    "        \"Atom number in xyz file does not match number of atoms!\"\n",
    "\n",
    "    atom_name_list=[]\n",
    "    coords_list=[]\n",
    "\n",
    "    for i in range(2, int(natoms_file)+2):\n",
    "        atom_name_list.append(lists[i][0])\n",
    "        coords_tmp = [float(item) for item in lists[i][-3:]]\n",
    "        coords_list.append((coords_tmp))\n",
    "    \n",
    "    positions = numpy.array(coords_list)\n",
    "    \n",
    "    return atom_name_list, positions"
   ]
  },
  {
   "cell_type": "code",
   "execution_count": null,
   "id": "507796af-d7e8-4866-9ce3-7bedccf71aee",
   "metadata": {},
   "outputs": [],
   "source": [
    "atoms, positions = load_xyz('example.xyz')"
   ]
  },
  {
   "cell_type": "code",
   "execution_count": null,
   "id": "02bbc482-6309-4d17-a5c7-750581cac77c",
   "metadata": {},
   "outputs": [],
   "source": [
    "atoms"
   ]
  },
  {
   "cell_type": "code",
   "execution_count": null,
   "id": "96f95cca-e4db-4b9e-8a46-eb4644de3391",
   "metadata": {},
   "outputs": [],
   "source": [
    "positions"
   ]
  },
  {
   "cell_type": "markdown",
   "id": "3be58f86-0ab4-4744-b0b3-d2d6f7cf6b17",
   "metadata": {},
   "source": [
    "### Writing to file:\n",
    "1. Open it\n",
    "2. Write your lines\n",
    "3. close it"
   ]
  },
  {
   "cell_type": "code",
   "execution_count": null,
   "id": "bd7568b2-2e21-439a-aec9-f6082032b4ef",
   "metadata": {},
   "outputs": [],
   "source": [
    "myfile = open('myfile.dat', 'w')"
   ]
  },
  {
   "cell_type": "code",
   "execution_count": null,
   "id": "04929389-568f-4685-8b01-199077e711a6",
   "metadata": {},
   "outputs": [],
   "source": [
    "for datapoint in data:\n",
    "    # files can only contain strings, so we have to convert\n",
    "    myfile.write(str(datapoint))"
   ]
  },
  {
   "cell_type": "code",
   "execution_count": null,
   "id": "baae56a3-65ae-4212-8a09-8fce2df676ad",
   "metadata": {},
   "outputs": [],
   "source": [
    "myfile.close()"
   ]
  },
  {
   "cell_type": "markdown",
   "id": "8a2bcd5d-5229-4f18-b80f-9f5b1c22189c",
   "metadata": {},
   "source": [
    "> It just pasted them all in one line, when we propbably want to store each datapoint seperately!"
   ]
  },
  {
   "cell_type": "code",
   "execution_count": null,
   "id": "7b94c267-bd87-4c93-b35e-3df1b4124b47",
   "metadata": {},
   "outputs": [],
   "source": [
    "os.remove('myfile.dat')"
   ]
  },
  {
   "cell_type": "code",
   "execution_count": null,
   "id": "d8e247f0-0168-4b0e-92f8-6fda9056535c",
   "metadata": {},
   "outputs": [],
   "source": [
    "myfile = open('myfile.dat', 'w')"
   ]
  },
  {
   "cell_type": "code",
   "execution_count": null,
   "id": "2c87153b-1620-4b9d-98ed-868480ed4300",
   "metadata": {},
   "outputs": [],
   "source": [
    "for datapoint in data:\n",
    "    # files can only contain strings, so we have to convert\n",
    "    myfile.write(str(datapoint))\n",
    "    myfile.write('\\n')"
   ]
  },
  {
   "cell_type": "code",
   "execution_count": null,
   "id": "1676ad2b-e7b6-4010-93f2-76f5c5b457ee",
   "metadata": {},
   "outputs": [],
   "source": [
    "myfile.close()"
   ]
  },
  {
   "cell_type": "code",
   "execution_count": null,
   "id": "d4dd9997-b3da-4464-b292-9db930836f2d",
   "metadata": {},
   "outputs": [],
   "source": [
    "os.remove('myfile.dat')"
   ]
  },
  {
   "cell_type": "markdown",
   "id": "929ce369-4214-48dc-8477-f0d2e2f3e893",
   "metadata": {},
   "source": [
    "***\n",
    "***\n",
    "\n",
    "## Pandas and csv files\n",
    "\n",
    "Pandas is a python library that was created to handle data, and it is a very useful tool for that purpose. Let's say we have an a number of dependant variables, we would like to represent different datapoints for those variables as an excel-like"
   ]
  },
  {
   "cell_type": "code",
   "execution_count": null,
   "id": "d1ccf119-4da0-4c38-beb8-55d6b709aa44",
   "metadata": {},
   "outputs": [],
   "source": [
    "df = pandas.DataFrame({\n",
    "    'x': data\n",
    "})"
   ]
  },
  {
   "cell_type": "code",
   "execution_count": null,
   "id": "88d9489d-4a3c-4041-b257-cb700fc0a435",
   "metadata": {},
   "outputs": [],
   "source": [
    "df "
   ]
  },
  {
   "cell_type": "markdown",
   "id": "f65cf972-834b-4491-8b64-b61addb576da",
   "metadata": {},
   "source": [
    "Add another variable."
   ]
  },
  {
   "cell_type": "code",
   "execution_count": null,
   "id": "d47a3dab-ee41-4bb0-8842-03d1027acfcf",
   "metadata": {},
   "outputs": [],
   "source": [
    "df['y'] = df['x'].apply(lambda x: x**2+1)"
   ]
  },
  {
   "cell_type": "code",
   "execution_count": null,
   "id": "4b4d17eb-b318-4040-8e00-b58eaadc1be4",
   "metadata": {},
   "outputs": [],
   "source": [
    "df"
   ]
  },
  {
   "cell_type": "markdown",
   "id": "c0f9d29a-b7d3-41c6-9306-ae19a0e7fa47",
   "metadata": {},
   "source": [
    "> We have an x and a y variable related to eachother, and we have 7 datapoints. We can have as long and as wide a dataframe as we want."
   ]
  },
  {
   "cell_type": "markdown",
   "id": "5fba618c-341c-4f87-bd91-521f050e5b4c",
   "metadata": {},
   "source": [
    "### Tangent: Pandas can do a ton of cool shit"
   ]
  },
  {
   "cell_type": "markdown",
   "id": "f4bddcd4-d007-4ce1-9fcf-46039e91f1f7",
   "metadata": {},
   "source": [
    "We can get stats on our data"
   ]
  },
  {
   "cell_type": "code",
   "execution_count": null,
   "id": "849f0dd5-6c62-44ca-9e63-0a904261d0a0",
   "metadata": {},
   "outputs": [],
   "source": [
    "df.describe()"
   ]
  },
  {
   "cell_type": "markdown",
   "id": "484e9c03-67ea-4422-b3a1-021f83d802a2",
   "metadata": {},
   "source": [
    "We can plot it"
   ]
  },
  {
   "cell_type": "code",
   "execution_count": null,
   "id": "929e1cba-ba0b-469d-8e18-fb9351f496bf",
   "metadata": {},
   "outputs": [],
   "source": [
    "df.plot.scatter(x='x', y='y')"
   ]
  },
  {
   "cell_type": "markdown",
   "id": "324442ac-97d9-4bb9-abad-6a4be42fb0f9",
   "metadata": {},
   "source": [
    "We can bin it"
   ]
  },
  {
   "cell_type": "code",
   "execution_count": null,
   "id": "eeb7628b-5045-41f5-9e3d-be470d85db6c",
   "metadata": {},
   "outputs": [],
   "source": [
    "df.groupby(\n",
    "    pandas.cut(df['y'], bins=5)\n",
    ").count()"
   ]
  },
  {
   "cell_type": "markdown",
   "id": "42583b96-0536-4475-9c57-d994947c4e49",
   "metadata": {},
   "source": [
    "And on and on..."
   ]
  },
  {
   "cell_type": "markdown",
   "id": "fd86d9ae-98d8-4ba9-ace6-fa450b3c4d7b",
   "metadata": {},
   "source": [
    "### Back on track: save our data as csv, load a csv\n",
    "Its super easy."
   ]
  },
  {
   "cell_type": "code",
   "execution_count": null,
   "id": "92272fdd-78a5-4403-8a0f-dbb85e60c5d4",
   "metadata": {},
   "outputs": [],
   "source": [
    "df.to_csv('mydata.csv')"
   ]
  },
  {
   "cell_type": "code",
   "execution_count": null,
   "id": "e502b62b-74fa-4f35-8d7e-5af19cccb7e4",
   "metadata": {},
   "outputs": [],
   "source": [
    "another_df = pandas.read_csv('mydata.csv', index_col=0)\n",
    "another_df"
   ]
  },
  {
   "cell_type": "markdown",
   "id": "f9825e84-3678-4151-bac8-816a7da41fce",
   "metadata": {},
   "source": [
    "***\n",
    "## Regex: find patterns in text"
   ]
  },
  {
   "cell_type": "code",
   "execution_count": null,
   "id": "132a8d6c-0d5e-4fb3-8065-37ccba9a765d",
   "metadata": {},
   "outputs": [],
   "source": [
    "import re"
   ]
  },
  {
   "cell_type": "code",
   "execution_count": null,
   "id": "eb74fa7a-68dd-4227-a6d5-1c1cf1b611fa",
   "metadata": {},
   "outputs": [],
   "source": [
    "toy_string = \"\"\"\n",
    "Stuff I don't care about\n",
    "------------------------\n",
    ">> Some more things\n",
    "None\n",
    "Of\n",
    "This\n",
    "Matters\n",
    "\n",
    "| Data |\n",
    "    1\n",
    "    2\n",
    "    5\n",
    "    1\n",
    "\n",
    "------------------------\n",
    "Other Things\n",
    ">> Don't care\n",
    "Total value: 20.1\n",
    "\n",
    "Thank you for looking at this string\n",
    "End of file.\n",
    "\"\"\""
   ]
  },
  {
   "cell_type": "markdown",
   "id": "004a1d0d-7006-4008-a3af-f8c67dadfe67",
   "metadata": {},
   "source": [
    "We can extract things from this file by defining patters"
   ]
  },
  {
   "cell_type": "code",
   "execution_count": null,
   "id": "62f0423d-0389-49a4-84bc-c29c95dce7c4",
   "metadata": {},
   "outputs": [],
   "source": [
    "value_pattern = 'Total value: (.*)'"
   ]
  },
  {
   "cell_type": "markdown",
   "id": "3dbdc0f5-ff82-4d1a-a85a-b80c4152622a",
   "metadata": {},
   "source": [
    "- The first part of the patter is just a literal, as in the pattern only matches the string if it has those characters in it\n",
    "- The parenthasis mean give me whats in side\n",
    "- The `.` matches any character and the `*` means repeat until end of line, so .* means everything until the end of line"
   ]
  },
  {
   "cell_type": "code",
   "execution_count": null,
   "id": "17f40973-83a6-4ddd-847f-304fa9cfbdbb",
   "metadata": {},
   "outputs": [],
   "source": [
    "re.findall(\n",
    "    value_pattern,\n",
    "    toy_string\n",
    ")"
   ]
  },
  {
   "cell_type": "code",
   "execution_count": null,
   "id": "b4c827f5-7ed4-4459-ac8f-21201acfcd8b",
   "metadata": {},
   "outputs": [],
   "source": [
    "data_pattern = '(?<=/| Data /|)(.*)(?=\\n\\n)'\n",
    "data_pattern = '\\| Data \\|([\\S\\s]*?)(?=\\n\\n)'"
   ]
  },
  {
   "cell_type": "code",
   "execution_count": null,
   "id": "2e05d326-7029-40c8-867f-e836c35c5ed2",
   "metadata": {},
   "outputs": [],
   "source": [
    "out = re.findall(\n",
    "    data_pattern,\n",
    "    toy_string\n",
    ")[0]"
   ]
  },
  {
   "cell_type": "code",
   "execution_count": null,
   "id": "405f6f90-7505-4497-a059-1e7552462fa5",
   "metadata": {},
   "outputs": [],
   "source": [
    "out.split()"
   ]
  },
  {
   "cell_type": "markdown",
   "id": "61256d50-2609-40e9-835a-620ce772b92c",
   "metadata": {},
   "source": [
    "- `\\| Data \\|` is literal, \\ is used because | is a special character, and we want to look for the |'s in the string\n",
    "- `([\\S\\s]*?)` means match everything __including new lines__, the ? at the end means match until the next pattern is matched for __the first time__, if that wasn't there it would capture eveything until __the last__ match of the next pattern\n",
    "- `(?=\\n\\n)` means match everything __behind__ two new lines"
   ]
  },
  {
   "cell_type": "markdown",
   "id": "7ead3061-b7b3-42ce-b282-64739296a741",
   "metadata": {},
   "source": [
    "> regex is basically its own language, so there is a lot to learn, but can be very helpful"
   ]
  },
  {
   "cell_type": "code",
   "execution_count": null,
   "id": "4fa16c1a-6fbf-407b-b34c-516e7f632eb2",
   "metadata": {},
   "outputs": [],
   "source": []
  }
 ],
 "metadata": {
  "kernelspec": {
   "display_name": "Python 3",
   "language": "python",
   "name": "python3"
  },
  "language_info": {
   "codemirror_mode": {
    "name": "ipython",
    "version": 3
   },
   "file_extension": ".py",
   "mimetype": "text/x-python",
   "name": "python",
   "nbconvert_exporter": "python",
   "pygments_lexer": "ipython3",
   "version": "3.7.10"
  }
 },
 "nbformat": 4,
 "nbformat_minor": 5
}
